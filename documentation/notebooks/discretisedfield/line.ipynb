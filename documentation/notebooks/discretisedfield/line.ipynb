{
 "cells": [
  {
   "cell_type": "markdown",
   "metadata": {},
   "source": [
    "# Line object\n",
    "\n",
    "In this tutorial, we show the basics of the line object. We start from the following field:"
   ]
  },
  {
   "cell_type": "code",
   "execution_count": 1,
   "metadata": {},
   "outputs": [],
   "source": [
    "import discretisedfield as df\n",
    "\n",
    "mesh = df.Mesh(\n",
    "    p1=(-10e-9, -10e-9, -10e-9), p2=(15e-9, 10e-9, 5e-9), cell=(1e-9, 1e-9, 1e-9)\n",
    ")\n",
    "\n",
    "\n",
    "def value_fun(point):\n",
    "    x, y, z = point\n",
    "    c = 1e9\n",
    "    return (x * c, 2 * y * c, 3 * z * c)\n",
    "\n",
    "\n",
    "field = df.Field(mesh, dim=3, value=value_fun, norm=1e6)"
   ]
  },
  {
   "cell_type": "markdown",
   "metadata": {},
   "source": [
    "We create a line object by passing two points between which the line spans as well as the number of points we want to sample on that line:"
   ]
  },
  {
   "cell_type": "code",
   "execution_count": 2,
   "metadata": {},
   "outputs": [],
   "source": [
    "line = field.line(p1=(-10e-9, 0, 0), p2=(15e-9, 0, 0), n=25)"
   ]
  },
  {
   "cell_type": "markdown",
   "metadata": {},
   "source": [
    "We can ask for the data on the line:"
   ]
  },
  {
   "cell_type": "code",
   "execution_count": 3,
   "metadata": {},
   "outputs": [
    {
     "data": {
      "text/html": [
       "<div>\n",
       "<style scoped>\n",
       "    .dataframe tbody tr th:only-of-type {\n",
       "        vertical-align: middle;\n",
       "    }\n",
       "\n",
       "    .dataframe tbody tr th {\n",
       "        vertical-align: top;\n",
       "    }\n",
       "\n",
       "    .dataframe thead th {\n",
       "        text-align: right;\n",
       "    }\n",
       "</style>\n",
       "<table border=\"1\" class=\"dataframe\">\n",
       "  <thead>\n",
       "    <tr style=\"text-align: right;\">\n",
       "      <th></th>\n",
       "      <th>r</th>\n",
       "      <th>px</th>\n",
       "      <th>py</th>\n",
       "      <th>pz</th>\n",
       "      <th>vx</th>\n",
       "      <th>vy</th>\n",
       "      <th>vz</th>\n",
       "    </tr>\n",
       "  </thead>\n",
       "  <tbody>\n",
       "    <tr>\n",
       "      <th>0</th>\n",
       "      <td>0.000000e+00</td>\n",
       "      <td>-1.000000e-08</td>\n",
       "      <td>0.0</td>\n",
       "      <td>0.0</td>\n",
       "      <td>-982466.610991</td>\n",
       "      <td>103417.537999</td>\n",
       "      <td>155126.306999</td>\n",
       "    </tr>\n",
       "    <tr>\n",
       "      <th>1</th>\n",
       "      <td>1.041667e-09</td>\n",
       "      <td>-8.958333e-09</td>\n",
       "      <td>0.0</td>\n",
       "      <td>0.0</td>\n",
       "      <td>-978240.074002</td>\n",
       "      <td>115087.067530</td>\n",
       "      <td>172630.601295</td>\n",
       "    </tr>\n",
       "    <tr>\n",
       "      <th>2</th>\n",
       "      <td>2.083333e-09</td>\n",
       "      <td>-7.916667e-09</td>\n",
       "      <td>0.0</td>\n",
       "      <td>0.0</td>\n",
       "      <td>-972305.585328</td>\n",
       "      <td>129640.744710</td>\n",
       "      <td>194461.117066</td>\n",
       "    </tr>\n",
       "    <tr>\n",
       "      <th>3</th>\n",
       "      <td>3.125000e-09</td>\n",
       "      <td>-6.875000e-09</td>\n",
       "      <td>0.0</td>\n",
       "      <td>0.0</td>\n",
       "      <td>-963624.111659</td>\n",
       "      <td>148249.863332</td>\n",
       "      <td>222374.794998</td>\n",
       "    </tr>\n",
       "    <tr>\n",
       "      <th>4</th>\n",
       "      <td>4.166667e-09</td>\n",
       "      <td>-5.833333e-09</td>\n",
       "      <td>0.0</td>\n",
       "      <td>0.0</td>\n",
       "      <td>-950255.268139</td>\n",
       "      <td>172773.685116</td>\n",
       "      <td>259160.527674</td>\n",
       "    </tr>\n",
       "    <tr>\n",
       "      <th>5</th>\n",
       "      <td>5.208333e-09</td>\n",
       "      <td>-4.791667e-09</td>\n",
       "      <td>0.0</td>\n",
       "      <td>0.0</td>\n",
       "      <td>-928279.121633</td>\n",
       "      <td>206284.249252</td>\n",
       "      <td>309426.373878</td>\n",
       "    </tr>\n",
       "    <tr>\n",
       "      <th>6</th>\n",
       "      <td>6.250000e-09</td>\n",
       "      <td>-3.750000e-09</td>\n",
       "      <td>0.0</td>\n",
       "      <td>0.0</td>\n",
       "      <td>-889000.889001</td>\n",
       "      <td>254000.254000</td>\n",
       "      <td>381000.381001</td>\n",
       "    </tr>\n",
       "    <tr>\n",
       "      <th>7</th>\n",
       "      <td>7.291667e-09</td>\n",
       "      <td>-2.708333e-09</td>\n",
       "      <td>0.0</td>\n",
       "      <td>0.0</td>\n",
       "      <td>-811107.105654</td>\n",
       "      <td>324442.842262</td>\n",
       "      <td>486664.263392</td>\n",
       "    </tr>\n",
       "    <tr>\n",
       "      <th>8</th>\n",
       "      <td>8.333333e-09</td>\n",
       "      <td>-1.666667e-09</td>\n",
       "      <td>0.0</td>\n",
       "      <td>0.0</td>\n",
       "      <td>-639602.149067</td>\n",
       "      <td>426401.432711</td>\n",
       "      <td>639602.149067</td>\n",
       "    </tr>\n",
       "    <tr>\n",
       "      <th>9</th>\n",
       "      <td>9.375000e-09</td>\n",
       "      <td>-6.250000e-10</td>\n",
       "      <td>0.0</td>\n",
       "      <td>0.0</td>\n",
       "      <td>-267261.241912</td>\n",
       "      <td>534522.483825</td>\n",
       "      <td>801783.725737</td>\n",
       "    </tr>\n",
       "    <tr>\n",
       "      <th>10</th>\n",
       "      <td>1.041667e-08</td>\n",
       "      <td>4.166667e-10</td>\n",
       "      <td>0.0</td>\n",
       "      <td>0.0</td>\n",
       "      <td>267261.241912</td>\n",
       "      <td>534522.483825</td>\n",
       "      <td>801783.725737</td>\n",
       "    </tr>\n",
       "    <tr>\n",
       "      <th>11</th>\n",
       "      <td>1.145833e-08</td>\n",
       "      <td>1.458333e-09</td>\n",
       "      <td>0.0</td>\n",
       "      <td>0.0</td>\n",
       "      <td>639602.149067</td>\n",
       "      <td>426401.432711</td>\n",
       "      <td>639602.149067</td>\n",
       "    </tr>\n",
       "    <tr>\n",
       "      <th>12</th>\n",
       "      <td>1.250000e-08</td>\n",
       "      <td>2.500000e-09</td>\n",
       "      <td>0.0</td>\n",
       "      <td>0.0</td>\n",
       "      <td>811107.105654</td>\n",
       "      <td>324442.842262</td>\n",
       "      <td>486664.263392</td>\n",
       "    </tr>\n",
       "    <tr>\n",
       "      <th>13</th>\n",
       "      <td>1.354167e-08</td>\n",
       "      <td>3.541667e-09</td>\n",
       "      <td>0.0</td>\n",
       "      <td>0.0</td>\n",
       "      <td>889000.889001</td>\n",
       "      <td>254000.254000</td>\n",
       "      <td>381000.381001</td>\n",
       "    </tr>\n",
       "    <tr>\n",
       "      <th>14</th>\n",
       "      <td>1.458333e-08</td>\n",
       "      <td>4.583333e-09</td>\n",
       "      <td>0.0</td>\n",
       "      <td>0.0</td>\n",
       "      <td>928279.121633</td>\n",
       "      <td>206284.249252</td>\n",
       "      <td>309426.373878</td>\n",
       "    </tr>\n",
       "    <tr>\n",
       "      <th>15</th>\n",
       "      <td>1.562500e-08</td>\n",
       "      <td>5.625000e-09</td>\n",
       "      <td>0.0</td>\n",
       "      <td>0.0</td>\n",
       "      <td>950255.268139</td>\n",
       "      <td>172773.685116</td>\n",
       "      <td>259160.527674</td>\n",
       "    </tr>\n",
       "    <tr>\n",
       "      <th>16</th>\n",
       "      <td>1.666667e-08</td>\n",
       "      <td>6.666667e-09</td>\n",
       "      <td>0.0</td>\n",
       "      <td>0.0</td>\n",
       "      <td>963624.111659</td>\n",
       "      <td>148249.863332</td>\n",
       "      <td>222374.794998</td>\n",
       "    </tr>\n",
       "    <tr>\n",
       "      <th>17</th>\n",
       "      <td>1.770833e-08</td>\n",
       "      <td>7.708333e-09</td>\n",
       "      <td>0.0</td>\n",
       "      <td>0.0</td>\n",
       "      <td>972305.585328</td>\n",
       "      <td>129640.744710</td>\n",
       "      <td>194461.117066</td>\n",
       "    </tr>\n",
       "    <tr>\n",
       "      <th>18</th>\n",
       "      <td>1.875000e-08</td>\n",
       "      <td>8.750000e-09</td>\n",
       "      <td>0.0</td>\n",
       "      <td>0.0</td>\n",
       "      <td>978240.074002</td>\n",
       "      <td>115087.067530</td>\n",
       "      <td>172630.601295</td>\n",
       "    </tr>\n",
       "    <tr>\n",
       "      <th>19</th>\n",
       "      <td>1.979167e-08</td>\n",
       "      <td>9.791667e-09</td>\n",
       "      <td>0.0</td>\n",
       "      <td>0.0</td>\n",
       "      <td>982466.610991</td>\n",
       "      <td>103417.537999</td>\n",
       "      <td>155126.306999</td>\n",
       "    </tr>\n",
       "    <tr>\n",
       "      <th>20</th>\n",
       "      <td>2.083333e-08</td>\n",
       "      <td>1.083333e-08</td>\n",
       "      <td>0.0</td>\n",
       "      <td>0.0</td>\n",
       "      <td>985578.834374</td>\n",
       "      <td>93864.650893</td>\n",
       "      <td>140796.976339</td>\n",
       "    </tr>\n",
       "    <tr>\n",
       "      <th>21</th>\n",
       "      <td>2.187500e-08</td>\n",
       "      <td>1.187500e-08</td>\n",
       "      <td>0.0</td>\n",
       "      <td>0.0</td>\n",
       "      <td>987934.593051</td>\n",
       "      <td>85907.355918</td>\n",
       "      <td>128861.033876</td>\n",
       "    </tr>\n",
       "    <tr>\n",
       "      <th>22</th>\n",
       "      <td>2.291667e-08</td>\n",
       "      <td>1.291667e-08</td>\n",
       "      <td>0.0</td>\n",
       "      <td>0.0</td>\n",
       "      <td>989759.478081</td>\n",
       "      <td>79180.758246</td>\n",
       "      <td>118771.137370</td>\n",
       "    </tr>\n",
       "    <tr>\n",
       "      <th>23</th>\n",
       "      <td>2.395833e-08</td>\n",
       "      <td>1.395833e-08</td>\n",
       "      <td>0.0</td>\n",
       "      <td>0.0</td>\n",
       "      <td>991201.182589</td>\n",
       "      <td>73422.309821</td>\n",
       "      <td>110133.464732</td>\n",
       "    </tr>\n",
       "    <tr>\n",
       "      <th>24</th>\n",
       "      <td>2.500000e-08</td>\n",
       "      <td>1.500000e-08</td>\n",
       "      <td>0.0</td>\n",
       "      <td>0.0</td>\n",
       "      <td>992359.570702</td>\n",
       "      <td>68438.591083</td>\n",
       "      <td>102657.886624</td>\n",
       "    </tr>\n",
       "  </tbody>\n",
       "</table>\n",
       "</div>"
      ],
      "text/plain": [
       "               r            px   py   pz             vx             vy  \\\n",
       "0   0.000000e+00 -1.000000e-08  0.0  0.0 -982466.610991  103417.537999   \n",
       "1   1.041667e-09 -8.958333e-09  0.0  0.0 -978240.074002  115087.067530   \n",
       "2   2.083333e-09 -7.916667e-09  0.0  0.0 -972305.585328  129640.744710   \n",
       "3   3.125000e-09 -6.875000e-09  0.0  0.0 -963624.111659  148249.863332   \n",
       "4   4.166667e-09 -5.833333e-09  0.0  0.0 -950255.268139  172773.685116   \n",
       "5   5.208333e-09 -4.791667e-09  0.0  0.0 -928279.121633  206284.249252   \n",
       "6   6.250000e-09 -3.750000e-09  0.0  0.0 -889000.889001  254000.254000   \n",
       "7   7.291667e-09 -2.708333e-09  0.0  0.0 -811107.105654  324442.842262   \n",
       "8   8.333333e-09 -1.666667e-09  0.0  0.0 -639602.149067  426401.432711   \n",
       "9   9.375000e-09 -6.250000e-10  0.0  0.0 -267261.241912  534522.483825   \n",
       "10  1.041667e-08  4.166667e-10  0.0  0.0  267261.241912  534522.483825   \n",
       "11  1.145833e-08  1.458333e-09  0.0  0.0  639602.149067  426401.432711   \n",
       "12  1.250000e-08  2.500000e-09  0.0  0.0  811107.105654  324442.842262   \n",
       "13  1.354167e-08  3.541667e-09  0.0  0.0  889000.889001  254000.254000   \n",
       "14  1.458333e-08  4.583333e-09  0.0  0.0  928279.121633  206284.249252   \n",
       "15  1.562500e-08  5.625000e-09  0.0  0.0  950255.268139  172773.685116   \n",
       "16  1.666667e-08  6.666667e-09  0.0  0.0  963624.111659  148249.863332   \n",
       "17  1.770833e-08  7.708333e-09  0.0  0.0  972305.585328  129640.744710   \n",
       "18  1.875000e-08  8.750000e-09  0.0  0.0  978240.074002  115087.067530   \n",
       "19  1.979167e-08  9.791667e-09  0.0  0.0  982466.610991  103417.537999   \n",
       "20  2.083333e-08  1.083333e-08  0.0  0.0  985578.834374   93864.650893   \n",
       "21  2.187500e-08  1.187500e-08  0.0  0.0  987934.593051   85907.355918   \n",
       "22  2.291667e-08  1.291667e-08  0.0  0.0  989759.478081   79180.758246   \n",
       "23  2.395833e-08  1.395833e-08  0.0  0.0  991201.182589   73422.309821   \n",
       "24  2.500000e-08  1.500000e-08  0.0  0.0  992359.570702   68438.591083   \n",
       "\n",
       "               vz  \n",
       "0   155126.306999  \n",
       "1   172630.601295  \n",
       "2   194461.117066  \n",
       "3   222374.794998  \n",
       "4   259160.527674  \n",
       "5   309426.373878  \n",
       "6   381000.381001  \n",
       "7   486664.263392  \n",
       "8   639602.149067  \n",
       "9   801783.725737  \n",
       "10  801783.725737  \n",
       "11  639602.149067  \n",
       "12  486664.263392  \n",
       "13  381000.381001  \n",
       "14  309426.373878  \n",
       "15  259160.527674  \n",
       "16  222374.794998  \n",
       "17  194461.117066  \n",
       "18  172630.601295  \n",
       "19  155126.306999  \n",
       "20  140796.976339  \n",
       "21  128861.033876  \n",
       "22  118771.137370  \n",
       "23  110133.464732  \n",
       "24  102657.886624  "
      ]
     },
     "execution_count": 3,
     "metadata": {},
     "output_type": "execute_result"
    }
   ],
   "source": [
    "line.data"
   ]
  },
  {
   "cell_type": "markdown",
   "metadata": {},
   "source": [
    "Dimension of the value:"
   ]
  },
  {
   "cell_type": "code",
   "execution_count": 4,
   "metadata": {},
   "outputs": [
    {
     "data": {
      "text/plain": [
       "3"
      ]
     },
     "execution_count": 4,
     "metadata": {},
     "output_type": "execute_result"
    }
   ],
   "source": [
    "line.dim"
   ]
  },
  {
   "cell_type": "markdown",
   "metadata": {},
   "source": [
    "Length of the line:"
   ]
  },
  {
   "cell_type": "code",
   "execution_count": 5,
   "metadata": {},
   "outputs": [
    {
     "data": {
      "text/plain": [
       "2.5e-08"
      ]
     },
     "execution_count": 5,
     "metadata": {},
     "output_type": "execute_result"
    }
   ],
   "source": [
    "line.length"
   ]
  },
  {
   "cell_type": "markdown",
   "metadata": {},
   "source": [
    "The number of points:"
   ]
  },
  {
   "cell_type": "code",
   "execution_count": 6,
   "metadata": {},
   "outputs": [
    {
     "data": {
      "text/plain": [
       "25"
      ]
     },
     "execution_count": 6,
     "metadata": {},
     "output_type": "execute_result"
    }
   ],
   "source": [
    "line.n"
   ]
  },
  {
   "cell_type": "markdown",
   "metadata": {},
   "source": [
    "The columns storing coordinates of points are:"
   ]
  },
  {
   "cell_type": "code",
   "execution_count": 7,
   "metadata": {},
   "outputs": [
    {
     "data": {
      "text/plain": [
       "['px', 'py', 'pz']"
      ]
     },
     "execution_count": 7,
     "metadata": {},
     "output_type": "execute_result"
    }
   ],
   "source": [
    "line.point_columns"
   ]
  },
  {
   "cell_type": "markdown",
   "metadata": {},
   "source": [
    "Similarly, the columns storing field values are:"
   ]
  },
  {
   "cell_type": "code",
   "execution_count": 8,
   "metadata": {},
   "outputs": [
    {
     "data": {
      "text/plain": [
       "['vx', 'vy', 'vz']"
      ]
     },
     "execution_count": 8,
     "metadata": {},
     "output_type": "execute_result"
    }
   ],
   "source": [
    "line.value_columns"
   ]
  },
  {
   "cell_type": "markdown",
   "metadata": {},
   "source": [
    "By default, value columns start with `v`, but we can rename them:"
   ]
  },
  {
   "cell_type": "code",
   "execution_count": 9,
   "metadata": {},
   "outputs": [],
   "source": [
    "line.value_columns = [\"xval\", \"yval\", \"zval\"]"
   ]
  },
  {
   "cell_type": "markdown",
   "metadata": {},
   "source": [
    "Line data is now:"
   ]
  },
  {
   "cell_type": "code",
   "execution_count": 10,
   "metadata": {},
   "outputs": [
    {
     "data": {
      "text/html": [
       "<div>\n",
       "<style scoped>\n",
       "    .dataframe tbody tr th:only-of-type {\n",
       "        vertical-align: middle;\n",
       "    }\n",
       "\n",
       "    .dataframe tbody tr th {\n",
       "        vertical-align: top;\n",
       "    }\n",
       "\n",
       "    .dataframe thead th {\n",
       "        text-align: right;\n",
       "    }\n",
       "</style>\n",
       "<table border=\"1\" class=\"dataframe\">\n",
       "  <thead>\n",
       "    <tr style=\"text-align: right;\">\n",
       "      <th></th>\n",
       "      <th>r</th>\n",
       "      <th>px</th>\n",
       "      <th>py</th>\n",
       "      <th>pz</th>\n",
       "      <th>xval</th>\n",
       "      <th>yval</th>\n",
       "      <th>zval</th>\n",
       "    </tr>\n",
       "  </thead>\n",
       "  <tbody>\n",
       "    <tr>\n",
       "      <th>0</th>\n",
       "      <td>0.000000e+00</td>\n",
       "      <td>-1.000000e-08</td>\n",
       "      <td>0.0</td>\n",
       "      <td>0.0</td>\n",
       "      <td>-982466.610991</td>\n",
       "      <td>103417.537999</td>\n",
       "      <td>155126.306999</td>\n",
       "    </tr>\n",
       "    <tr>\n",
       "      <th>1</th>\n",
       "      <td>1.041667e-09</td>\n",
       "      <td>-8.958333e-09</td>\n",
       "      <td>0.0</td>\n",
       "      <td>0.0</td>\n",
       "      <td>-978240.074002</td>\n",
       "      <td>115087.067530</td>\n",
       "      <td>172630.601295</td>\n",
       "    </tr>\n",
       "    <tr>\n",
       "      <th>2</th>\n",
       "      <td>2.083333e-09</td>\n",
       "      <td>-7.916667e-09</td>\n",
       "      <td>0.0</td>\n",
       "      <td>0.0</td>\n",
       "      <td>-972305.585328</td>\n",
       "      <td>129640.744710</td>\n",
       "      <td>194461.117066</td>\n",
       "    </tr>\n",
       "    <tr>\n",
       "      <th>3</th>\n",
       "      <td>3.125000e-09</td>\n",
       "      <td>-6.875000e-09</td>\n",
       "      <td>0.0</td>\n",
       "      <td>0.0</td>\n",
       "      <td>-963624.111659</td>\n",
       "      <td>148249.863332</td>\n",
       "      <td>222374.794998</td>\n",
       "    </tr>\n",
       "    <tr>\n",
       "      <th>4</th>\n",
       "      <td>4.166667e-09</td>\n",
       "      <td>-5.833333e-09</td>\n",
       "      <td>0.0</td>\n",
       "      <td>0.0</td>\n",
       "      <td>-950255.268139</td>\n",
       "      <td>172773.685116</td>\n",
       "      <td>259160.527674</td>\n",
       "    </tr>\n",
       "    <tr>\n",
       "      <th>5</th>\n",
       "      <td>5.208333e-09</td>\n",
       "      <td>-4.791667e-09</td>\n",
       "      <td>0.0</td>\n",
       "      <td>0.0</td>\n",
       "      <td>-928279.121633</td>\n",
       "      <td>206284.249252</td>\n",
       "      <td>309426.373878</td>\n",
       "    </tr>\n",
       "    <tr>\n",
       "      <th>6</th>\n",
       "      <td>6.250000e-09</td>\n",
       "      <td>-3.750000e-09</td>\n",
       "      <td>0.0</td>\n",
       "      <td>0.0</td>\n",
       "      <td>-889000.889001</td>\n",
       "      <td>254000.254000</td>\n",
       "      <td>381000.381001</td>\n",
       "    </tr>\n",
       "    <tr>\n",
       "      <th>7</th>\n",
       "      <td>7.291667e-09</td>\n",
       "      <td>-2.708333e-09</td>\n",
       "      <td>0.0</td>\n",
       "      <td>0.0</td>\n",
       "      <td>-811107.105654</td>\n",
       "      <td>324442.842262</td>\n",
       "      <td>486664.263392</td>\n",
       "    </tr>\n",
       "    <tr>\n",
       "      <th>8</th>\n",
       "      <td>8.333333e-09</td>\n",
       "      <td>-1.666667e-09</td>\n",
       "      <td>0.0</td>\n",
       "      <td>0.0</td>\n",
       "      <td>-639602.149067</td>\n",
       "      <td>426401.432711</td>\n",
       "      <td>639602.149067</td>\n",
       "    </tr>\n",
       "    <tr>\n",
       "      <th>9</th>\n",
       "      <td>9.375000e-09</td>\n",
       "      <td>-6.250000e-10</td>\n",
       "      <td>0.0</td>\n",
       "      <td>0.0</td>\n",
       "      <td>-267261.241912</td>\n",
       "      <td>534522.483825</td>\n",
       "      <td>801783.725737</td>\n",
       "    </tr>\n",
       "    <tr>\n",
       "      <th>10</th>\n",
       "      <td>1.041667e-08</td>\n",
       "      <td>4.166667e-10</td>\n",
       "      <td>0.0</td>\n",
       "      <td>0.0</td>\n",
       "      <td>267261.241912</td>\n",
       "      <td>534522.483825</td>\n",
       "      <td>801783.725737</td>\n",
       "    </tr>\n",
       "    <tr>\n",
       "      <th>11</th>\n",
       "      <td>1.145833e-08</td>\n",
       "      <td>1.458333e-09</td>\n",
       "      <td>0.0</td>\n",
       "      <td>0.0</td>\n",
       "      <td>639602.149067</td>\n",
       "      <td>426401.432711</td>\n",
       "      <td>639602.149067</td>\n",
       "    </tr>\n",
       "    <tr>\n",
       "      <th>12</th>\n",
       "      <td>1.250000e-08</td>\n",
       "      <td>2.500000e-09</td>\n",
       "      <td>0.0</td>\n",
       "      <td>0.0</td>\n",
       "      <td>811107.105654</td>\n",
       "      <td>324442.842262</td>\n",
       "      <td>486664.263392</td>\n",
       "    </tr>\n",
       "    <tr>\n",
       "      <th>13</th>\n",
       "      <td>1.354167e-08</td>\n",
       "      <td>3.541667e-09</td>\n",
       "      <td>0.0</td>\n",
       "      <td>0.0</td>\n",
       "      <td>889000.889001</td>\n",
       "      <td>254000.254000</td>\n",
       "      <td>381000.381001</td>\n",
       "    </tr>\n",
       "    <tr>\n",
       "      <th>14</th>\n",
       "      <td>1.458333e-08</td>\n",
       "      <td>4.583333e-09</td>\n",
       "      <td>0.0</td>\n",
       "      <td>0.0</td>\n",
       "      <td>928279.121633</td>\n",
       "      <td>206284.249252</td>\n",
       "      <td>309426.373878</td>\n",
       "    </tr>\n",
       "    <tr>\n",
       "      <th>15</th>\n",
       "      <td>1.562500e-08</td>\n",
       "      <td>5.625000e-09</td>\n",
       "      <td>0.0</td>\n",
       "      <td>0.0</td>\n",
       "      <td>950255.268139</td>\n",
       "      <td>172773.685116</td>\n",
       "      <td>259160.527674</td>\n",
       "    </tr>\n",
       "    <tr>\n",
       "      <th>16</th>\n",
       "      <td>1.666667e-08</td>\n",
       "      <td>6.666667e-09</td>\n",
       "      <td>0.0</td>\n",
       "      <td>0.0</td>\n",
       "      <td>963624.111659</td>\n",
       "      <td>148249.863332</td>\n",
       "      <td>222374.794998</td>\n",
       "    </tr>\n",
       "    <tr>\n",
       "      <th>17</th>\n",
       "      <td>1.770833e-08</td>\n",
       "      <td>7.708333e-09</td>\n",
       "      <td>0.0</td>\n",
       "      <td>0.0</td>\n",
       "      <td>972305.585328</td>\n",
       "      <td>129640.744710</td>\n",
       "      <td>194461.117066</td>\n",
       "    </tr>\n",
       "    <tr>\n",
       "      <th>18</th>\n",
       "      <td>1.875000e-08</td>\n",
       "      <td>8.750000e-09</td>\n",
       "      <td>0.0</td>\n",
       "      <td>0.0</td>\n",
       "      <td>978240.074002</td>\n",
       "      <td>115087.067530</td>\n",
       "      <td>172630.601295</td>\n",
       "    </tr>\n",
       "    <tr>\n",
       "      <th>19</th>\n",
       "      <td>1.979167e-08</td>\n",
       "      <td>9.791667e-09</td>\n",
       "      <td>0.0</td>\n",
       "      <td>0.0</td>\n",
       "      <td>982466.610991</td>\n",
       "      <td>103417.537999</td>\n",
       "      <td>155126.306999</td>\n",
       "    </tr>\n",
       "    <tr>\n",
       "      <th>20</th>\n",
       "      <td>2.083333e-08</td>\n",
       "      <td>1.083333e-08</td>\n",
       "      <td>0.0</td>\n",
       "      <td>0.0</td>\n",
       "      <td>985578.834374</td>\n",
       "      <td>93864.650893</td>\n",
       "      <td>140796.976339</td>\n",
       "    </tr>\n",
       "    <tr>\n",
       "      <th>21</th>\n",
       "      <td>2.187500e-08</td>\n",
       "      <td>1.187500e-08</td>\n",
       "      <td>0.0</td>\n",
       "      <td>0.0</td>\n",
       "      <td>987934.593051</td>\n",
       "      <td>85907.355918</td>\n",
       "      <td>128861.033876</td>\n",
       "    </tr>\n",
       "    <tr>\n",
       "      <th>22</th>\n",
       "      <td>2.291667e-08</td>\n",
       "      <td>1.291667e-08</td>\n",
       "      <td>0.0</td>\n",
       "      <td>0.0</td>\n",
       "      <td>989759.478081</td>\n",
       "      <td>79180.758246</td>\n",
       "      <td>118771.137370</td>\n",
       "    </tr>\n",
       "    <tr>\n",
       "      <th>23</th>\n",
       "      <td>2.395833e-08</td>\n",
       "      <td>1.395833e-08</td>\n",
       "      <td>0.0</td>\n",
       "      <td>0.0</td>\n",
       "      <td>991201.182589</td>\n",
       "      <td>73422.309821</td>\n",
       "      <td>110133.464732</td>\n",
       "    </tr>\n",
       "    <tr>\n",
       "      <th>24</th>\n",
       "      <td>2.500000e-08</td>\n",
       "      <td>1.500000e-08</td>\n",
       "      <td>0.0</td>\n",
       "      <td>0.0</td>\n",
       "      <td>992359.570702</td>\n",
       "      <td>68438.591083</td>\n",
       "      <td>102657.886624</td>\n",
       "    </tr>\n",
       "  </tbody>\n",
       "</table>\n",
       "</div>"
      ],
      "text/plain": [
       "               r            px   py   pz           xval           yval  \\\n",
       "0   0.000000e+00 -1.000000e-08  0.0  0.0 -982466.610991  103417.537999   \n",
       "1   1.041667e-09 -8.958333e-09  0.0  0.0 -978240.074002  115087.067530   \n",
       "2   2.083333e-09 -7.916667e-09  0.0  0.0 -972305.585328  129640.744710   \n",
       "3   3.125000e-09 -6.875000e-09  0.0  0.0 -963624.111659  148249.863332   \n",
       "4   4.166667e-09 -5.833333e-09  0.0  0.0 -950255.268139  172773.685116   \n",
       "5   5.208333e-09 -4.791667e-09  0.0  0.0 -928279.121633  206284.249252   \n",
       "6   6.250000e-09 -3.750000e-09  0.0  0.0 -889000.889001  254000.254000   \n",
       "7   7.291667e-09 -2.708333e-09  0.0  0.0 -811107.105654  324442.842262   \n",
       "8   8.333333e-09 -1.666667e-09  0.0  0.0 -639602.149067  426401.432711   \n",
       "9   9.375000e-09 -6.250000e-10  0.0  0.0 -267261.241912  534522.483825   \n",
       "10  1.041667e-08  4.166667e-10  0.0  0.0  267261.241912  534522.483825   \n",
       "11  1.145833e-08  1.458333e-09  0.0  0.0  639602.149067  426401.432711   \n",
       "12  1.250000e-08  2.500000e-09  0.0  0.0  811107.105654  324442.842262   \n",
       "13  1.354167e-08  3.541667e-09  0.0  0.0  889000.889001  254000.254000   \n",
       "14  1.458333e-08  4.583333e-09  0.0  0.0  928279.121633  206284.249252   \n",
       "15  1.562500e-08  5.625000e-09  0.0  0.0  950255.268139  172773.685116   \n",
       "16  1.666667e-08  6.666667e-09  0.0  0.0  963624.111659  148249.863332   \n",
       "17  1.770833e-08  7.708333e-09  0.0  0.0  972305.585328  129640.744710   \n",
       "18  1.875000e-08  8.750000e-09  0.0  0.0  978240.074002  115087.067530   \n",
       "19  1.979167e-08  9.791667e-09  0.0  0.0  982466.610991  103417.537999   \n",
       "20  2.083333e-08  1.083333e-08  0.0  0.0  985578.834374   93864.650893   \n",
       "21  2.187500e-08  1.187500e-08  0.0  0.0  987934.593051   85907.355918   \n",
       "22  2.291667e-08  1.291667e-08  0.0  0.0  989759.478081   79180.758246   \n",
       "23  2.395833e-08  1.395833e-08  0.0  0.0  991201.182589   73422.309821   \n",
       "24  2.500000e-08  1.500000e-08  0.0  0.0  992359.570702   68438.591083   \n",
       "\n",
       "             zval  \n",
       "0   155126.306999  \n",
       "1   172630.601295  \n",
       "2   194461.117066  \n",
       "3   222374.794998  \n",
       "4   259160.527674  \n",
       "5   309426.373878  \n",
       "6   381000.381001  \n",
       "7   486664.263392  \n",
       "8   639602.149067  \n",
       "9   801783.725737  \n",
       "10  801783.725737  \n",
       "11  639602.149067  \n",
       "12  486664.263392  \n",
       "13  381000.381001  \n",
       "14  309426.373878  \n",
       "15  259160.527674  \n",
       "16  222374.794998  \n",
       "17  194461.117066  \n",
       "18  172630.601295  \n",
       "19  155126.306999  \n",
       "20  140796.976339  \n",
       "21  128861.033876  \n",
       "22  118771.137370  \n",
       "23  110133.464732  \n",
       "24  102657.886624  "
      ]
     },
     "execution_count": 10,
     "metadata": {},
     "output_type": "execute_result"
    }
   ],
   "source": [
    "line.data"
   ]
  },
  {
   "cell_type": "markdown",
   "metadata": {},
   "source": [
    "## Line visualisation\n",
    "\n",
    "Default plot is:"
   ]
  },
  {
   "cell_type": "code",
   "execution_count": 11,
   "metadata": {},
   "outputs": [
    {
     "data": {
      "image/png": "[encoded data removed]",
      "text/plain": [
       "<Figure size 576x432 with 1 Axes>"
      ]
     },
     "metadata": {},
     "output_type": "display_data"
    }
   ],
   "source": [
    "line.mpl()"
   ]
  },
  {
   "cell_type": "markdown",
   "metadata": {},
   "source": [
    "We can change the size of the plot:"
   ]
  },
  {
   "cell_type": "code",
   "execution_count": 12,
   "metadata": {},
   "outputs": [
    {
     "data": {
      "image/png": "[encoded data removed]",
      "text/plain": [
       "<Figure size 720x360 with 1 Axes>"
      ]
     },
     "metadata": {},
     "output_type": "display_data"
    }
   ],
   "source": [
    "line.mpl(figsize=(10, 5))"
   ]
  },
  {
   "cell_type": "markdown",
   "metadata": {},
   "source": [
    "Also, we can limit the values on the x-axis:"
   ]
  },
  {
   "cell_type": "code",
   "execution_count": 13,
   "metadata": {},
   "outputs": [
    {
     "data": {
      "image/png": "[encoded data removed]",
      "text/plain": [
       "<Figure size 576x432 with 1 Axes>"
      ]
     },
     "metadata": {},
     "output_type": "display_data"
    }
   ],
   "source": [
    "line.mpl(xlim=[5e-9, 20e-9])"
   ]
  },
  {
   "cell_type": "markdown",
   "metadata": {},
   "source": [
    "and we can choose what we want to plot:"
   ]
  },
  {
   "cell_type": "code",
   "execution_count": 14,
   "metadata": {},
   "outputs": [
    {
     "data": {
      "image/png": "[encoded data removed]",
      "text/plain": [
       "<Figure size 576x432 with 1 Axes>"
      ]
     },
     "metadata": {},
     "output_type": "display_data"
    }
   ],
   "source": [
    "line.mpl(yaxis=[\"xval\", \"yval\"])"
   ]
  },
  {
   "cell_type": "markdown",
   "metadata": {},
   "source": [
    "Similar to all other plots, we can build interactive plots:"
   ]
  },
  {
   "cell_type": "code",
   "execution_count": 15,
   "metadata": {
    "tags": [
     "nbval-ignore-output"
    ]
   },
   "outputs": [
    {
     "data": {
      "application/vnd.jupyter.widget-view+json": {
       "model_id": "711396f2b58045eca4fcaa7c5fac46fc",
       "version_major": 2,
       "version_minor": 0
      },
      "text/plain": [
       "interactive(children=(SelectionRangeSlider(continuous_update=False, description='r (nm):', index=(0, 24), opti…"
      ]
     },
     "metadata": {},
     "output_type": "display_data"
    }
   ],
   "source": [
    "@df.interact(xlim=line.slider(continuous_update=False), yaxis=line.selector())\n",
    "def myplot(xlim, yaxis):\n",
    "    return line.mpl(figsize=(10, 6), yaxis=yaxis, marker=\"o\", xlim=xlim)"
   ]
  }
 ],
 "metadata": {
  "kernelspec": {
   "display_name": "Python 3 (ipykernel)",
   "language": "python",
   "name": "python3"
  },
  "language_info": {
   "codemirror_mode": {
    "name": "ipython",
    "version": 3
   },
   "file_extension": ".py",
   "mimetype": "text/x-python",
   "name": "python",
   "nbconvert_exporter": "python",
   "pygments_lexer": "ipython3",
   "version": "3.8.12"
  },
  "widgets": {
   "application/vnd.jupyter.widget-state+json": {
    "state": {
     "0933290ace224febb718c8198ea50c95": {
      "model_module": "@jupyter-widgets/controls",
      "model_module_version": "1.5.0",
      "model_name": "DescriptionStyleModel",
      "state": {
       "description_width": ""
      }
     },
     "0f5aad9401dc4469b0a250ca0320def4": {
      "model_module": "@jupyter-widgets/controls",
      "model_module_version": "1.5.0",
      "model_name": "SelectMultipleModel",
      "state": {
       "_options_labels": [
        "xval",
        "yval",
        "zval"
       ],
       "description": "y-axis:",
       "index": [
        0,
        1,
        2
       ],
       "layout": "IPY_MODEL_96f5aa73bd9345238962272df0823b69",
       "rows": 3,
       "style": "IPY_MODEL_0933290ace224febb718c8198ea50c95"
      }
     },
     "3bafcf31e5014a34b0c97ffd08c7eefa": {
      "model_module": "@jupyter-widgets/base",
      "model_module_version": "1.2.0",
      "model_name": "LayoutModel",
      "state": {}
     },
     "5fd010ab656c4f8eba2009fb4a8c8e27": {
      "model_module": "@jupyter-widgets/base",
      "model_module_version": "1.2.0",
      "model_name": "LayoutModel",
      "state": {}
     },
     "711396f2b58045eca4fcaa7c5fac46fc": {
      "model_module": "@jupyter-widgets/controls",
      "model_module_version": "1.5.0",
      "model_name": "VBoxModel",
      "state": {
       "_dom_classes": [
        "widget-interact"
       ],
       "children": [
        "IPY_MODEL_7cc422f363194fcc91d27a792a677b40",
        "IPY_MODEL_0f5aad9401dc4469b0a250ca0320def4",
        "IPY_MODEL_823491300b524b39acef49bf2d1b430c"
       ],
       "layout": "IPY_MODEL_d5f96f28036e4169a4d42144f1165cb3"
      }
     },
     "7cc422f363194fcc91d27a792a677b40": {
      "model_module": "@jupyter-widgets/controls",
      "model_module_version": "1.5.0",
      "model_name": "SelectionRangeSliderModel",
      "state": {
       "_model_name": "SelectionRangeSliderModel",
       "_options_labels": [
        "0.0",
        "1.04",
        "2.08",
        "3.12",
        "4.17",
        "5.21",
        "6.25",
        "7.29",
        "8.33",
        "9.37",
        "10.42",
        "11.46",
        "12.5",
        "13.54",
        "14.58",
        "15.62",
        "16.67",
        "17.71",
        "18.75",
        "19.79",
        "20.83",
        "21.87",
        "22.92",
        "23.96",
        "25.0"
       ],
       "_view_name": "SelectionRangeSliderView",
       "continuous_update": false,
       "description": "r (nm):",
       "index": [
        0,
        24
       ],
       "layout": "IPY_MODEL_5fd010ab656c4f8eba2009fb4a8c8e27",
       "style": "IPY_MODEL_c8f5daafee9c44eda86c5d3391c7b8e3"
      }
     },
     "823491300b524b39acef49bf2d1b430c": {
      "model_module": "@jupyter-widgets/output",
      "model_module_version": "1.0.0",
      "model_name": "OutputModel",
      "state": {
       "layout": "IPY_MODEL_3bafcf31e5014a34b0c97ffd08c7eefa",
       "outputs": [
        {
         "data": {
          "image/png": "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\n",
          "text/plain": "<Figure size 720x432 with 1 Axes>"
         },
         "metadata": {},
         "output_type": "display_data"
        }
       ]
      }
     },
     "96f5aa73bd9345238962272df0823b69": {
      "model_module": "@jupyter-widgets/base",
      "model_module_version": "1.2.0",
      "model_name": "LayoutModel",
      "state": {}
     },
     "c8f5daafee9c44eda86c5d3391c7b8e3": {
      "model_module": "@jupyter-widgets/controls",
      "model_module_version": "1.5.0",
      "model_name": "DescriptionStyleModel",
      "state": {
       "description_width": ""
      }
     },
     "d5f96f28036e4169a4d42144f1165cb3": {
      "model_module": "@jupyter-widgets/base",
      "model_module_version": "1.2.0",
      "model_name": "LayoutModel",
      "state": {}
     }
    },
    "version_major": 2,
    "version_minor": 0
   }
  }
 },
 "nbformat": 4,
 "nbformat_minor": 4
}
