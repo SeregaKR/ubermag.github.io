{
 "cells": [
  {
   "cell_type": "markdown",
   "metadata": {},
   "source": [
    "# Multiple energy terms of the same class\n",
    "\n",
    "Here we demonstrate how to define multiple energy terms of the same class in the energy equation. For the sample, we choose a one-dimensional chain of magnetic moments."
   ]
  },
  {
   "cell_type": "code",
   "execution_count": 1,
   "metadata": {},
   "outputs": [],
   "source": [
    "import random\n",
    "import oommfc as mc\n",
    "import discretisedfield as df\n",
    "import micromagneticmodel as mm\n",
    "\n",
    "p1 = (-10e-9, 0, 0)\n",
    "p2 = (10e-9, 1e-9, 1e-9)\n",
    "cell = (1e-9, 1e-9, 1e-9)\n",
    "region = df.Region(p1=p1, p2=p2)\n",
    "mesh = df.Mesh(region=region, cell=cell)"
   ]
  },
  {
   "cell_type": "markdown",
   "metadata": {},
   "source": [
    "The mesh is"
   ]
  },
  {
   "cell_type": "code",
   "execution_count": 2,
   "metadata": {
    "tags": [
     "nbval-ignore-output"
    ]
   },
   "outputs": [
    {
     "data": {
      "application/vnd.jupyter.widget-view+json": {
       "model_id": "bf8ee52da3554f279fec12695caa34bf",
       "version_major": 2,
       "version_minor": 0
      },
      "text/plain": [
       "Output()"
      ]
     },
     "metadata": {},
     "output_type": "display_data"
    }
   ],
   "source": [
    "mesh.k3d()"
   ]
  },
  {
   "cell_type": "markdown",
   "metadata": {},
   "source": [
    "Let us say that the system has an energy equation, which consists of two Zeeman energy terms."
   ]
  },
  {
   "cell_type": "code",
   "execution_count": 3,
   "metadata": {},
   "outputs": [],
   "source": [
    "H1 = (0, 0, 1e6)\n",
    "H2 = (1e6, 0, 0)\n",
    "\n",
    "system = mm.System(name='multiple_terms')"
   ]
  },
  {
   "cell_type": "markdown",
   "metadata": {},
   "source": [
    "Now, if we try to add two Zeeman energy terms, we get an exception raised."
   ]
  },
  {
   "cell_type": "code",
   "execution_count": 4,
   "metadata": {
    "tags": [
     "raises-exception"
    ]
   },
   "outputs": [
    {
     "ename": "ValueError",
     "evalue": "Cannot have two <class 'micromagneticmodel.energy.zeeman.Zeeman'> terms in the container.",
     "output_type": "error",
     "traceback": [
      "\u001b[0;31m---------------------------------------------------------------------------\u001b[0m",
      "\u001b[0;31mValueError\u001b[0m                                Traceback (most recent call last)",
      "Input \u001b[0;32mIn [4]\u001b[0m, in \u001b[0;36m<module>\u001b[0;34m\u001b[0m\n\u001b[0;32m----> 1\u001b[0m system\u001b[38;5;241m.\u001b[39menergy \u001b[38;5;241m=\u001b[39m \u001b[43mmm\u001b[49m\u001b[38;5;241;43m.\u001b[39;49m\u001b[43mZeeman\u001b[49m\u001b[43m(\u001b[49m\u001b[43mH\u001b[49m\u001b[38;5;241;43m=\u001b[39;49m\u001b[43m(\u001b[49m\u001b[38;5;241;43m0\u001b[39;49m\u001b[43m,\u001b[49m\u001b[43m \u001b[49m\u001b[38;5;241;43m0\u001b[39;49m\u001b[43m,\u001b[49m\u001b[43m \u001b[49m\u001b[38;5;241;43m1e5\u001b[39;49m\u001b[43m)\u001b[49m\u001b[43m)\u001b[49m\u001b[43m \u001b[49m\u001b[38;5;241;43m+\u001b[39;49m\u001b[43m \u001b[49m\u001b[43mmm\u001b[49m\u001b[38;5;241;43m.\u001b[39;49m\u001b[43mZeeman\u001b[49m\u001b[43m(\u001b[49m\u001b[43mH\u001b[49m\u001b[38;5;241;43m=\u001b[39;49m\u001b[43m(\u001b[49m\u001b[38;5;241;43m0\u001b[39;49m\u001b[43m,\u001b[49m\u001b[43m \u001b[49m\u001b[38;5;241;43m1e5\u001b[39;49m\u001b[43m,\u001b[49m\u001b[43m \u001b[49m\u001b[38;5;241;43m0\u001b[39;49m\u001b[43m)\u001b[49m\u001b[43m)\u001b[49m\n",
      "File \u001b[0;32m~/PhD/repos/ubermag-devtools/repos/micromagneticmodel/micromagneticmodel/abstract/term.py:114\u001b[0m, in \u001b[0;36mTerm.__add__\u001b[0;34m(self, other)\u001b[0m\n\u001b[1;32m    112\u001b[0m result \u001b[38;5;241m=\u001b[39m \u001b[38;5;28mgetattr\u001b[39m(mm, \u001b[38;5;28mself\u001b[39m\u001b[38;5;241m.\u001b[39m_container_class)()\n\u001b[1;32m    113\u001b[0m result \u001b[38;5;241m+\u001b[39m\u001b[38;5;241m=\u001b[39m \u001b[38;5;28mself\u001b[39m\n\u001b[0;32m--> 114\u001b[0m result \u001b[38;5;241m+\u001b[39m\u001b[38;5;241m=\u001b[39m other\n\u001b[1;32m    115\u001b[0m \u001b[38;5;28;01mreturn\u001b[39;00m result\n",
      "File \u001b[0;32m~/PhD/repos/ubermag-devtools/repos/micromagneticmodel/micromagneticmodel/abstract/container.py:335\u001b[0m, in \u001b[0;36mContainer.__add__\u001b[0;34m(self, other)\u001b[0m\n\u001b[1;32m    332\u001b[0m     \u001b[38;5;28;01mif\u001b[39;00m other \u001b[38;5;129;01min\u001b[39;00m result:\n\u001b[1;32m    333\u001b[0m         msg \u001b[38;5;241m=\u001b[39m (\u001b[38;5;124mf\u001b[39m\u001b[38;5;124m'\u001b[39m\u001b[38;5;124mCannot have two \u001b[39m\u001b[38;5;132;01m{\u001b[39;00mother\u001b[38;5;241m.\u001b[39m\u001b[38;5;18m__class__\u001b[39m\u001b[38;5;132;01m}\u001b[39;00m\u001b[38;5;124m \u001b[39m\u001b[38;5;124m'\u001b[39m\n\u001b[1;32m    334\u001b[0m                \u001b[38;5;124m'\u001b[39m\u001b[38;5;124mterms in the container.\u001b[39m\u001b[38;5;124m'\u001b[39m)\n\u001b[0;32m--> 335\u001b[0m         \u001b[38;5;28;01mraise\u001b[39;00m \u001b[38;5;167;01mValueError\u001b[39;00m(msg)\n\u001b[1;32m    336\u001b[0m     result\u001b[38;5;241m.\u001b[39m_terms\u001b[38;5;241m.\u001b[39mappend(other)\n\u001b[1;32m    337\u001b[0m \u001b[38;5;28;01melif\u001b[39;00m \u001b[38;5;28misinstance\u001b[39m(other, \u001b[38;5;28mself\u001b[39m\u001b[38;5;241m.\u001b[39m\u001b[38;5;18m__class__\u001b[39m):\n",
      "\u001b[0;31mValueError\u001b[0m: Cannot have two <class 'micromagneticmodel.energy.zeeman.Zeeman'> terms in the container."
     ]
    }
   ],
   "source": [
    "system.energy = mm.Zeeman(H=(0, 0, 1e5)) + mm.Zeeman(H=(0, 1e5, 0))"
   ]
  },
  {
   "cell_type": "markdown",
   "metadata": {},
   "source": [
    "This is because different energy terms must have different names, so they can be uniquely identified. So, we have to give names to our energy terms:"
   ]
  },
  {
   "cell_type": "code",
   "execution_count": 5,
   "metadata": {},
   "outputs": [],
   "source": [
    "system.energy = mm.Zeeman(H=H1, name='zeeman1') + mm.Zeeman(H=H2, name='zeeman2')"
   ]
  },
  {
   "cell_type": "markdown",
   "metadata": {},
   "source": [
    "We need to define the system's magnetisation (`system.m`). We are going to make it random with $M_\\text{s}=8\\times10^{5} \\,\\text{Am}^{-1}$"
   ]
  },
  {
   "cell_type": "code",
   "execution_count": 6,
   "metadata": {},
   "outputs": [],
   "source": [
    "random.seed(1)\n",
    "\n",
    "Ms = 8e5  # saturation magnetisation (A/m)\n",
    "\n",
    "def m_fun(pos):\n",
    "    return [2*random.random()-1 for i in range(3)]\n",
    "\n",
    "system.m = df.Field(mesh, dim=3, value=m_fun, norm=Ms)"
   ]
  },
  {
   "cell_type": "markdown",
   "metadata": {},
   "source": [
    "Now, we can minimise the system's energy:"
   ]
  },
  {
   "cell_type": "code",
   "execution_count": 7,
   "metadata": {},
   "outputs": [
    {
     "name": "stdout",
     "output_type": "stream",
     "text": [
      "Running OOMMF (ExeOOMMFRunner)[2022/02/25 18:11]... (0.5 s)\n"
     ]
    }
   ],
   "source": [
    "md = mc.MinDriver()\n",
    "md.drive(system)"
   ]
  },
  {
   "cell_type": "markdown",
   "metadata": {},
   "source": [
    "We expect that now all magnetic moments are aligned parallel or antiparallel to the anisotropy axis (in the $z$-direction)."
   ]
  },
  {
   "cell_type": "code",
   "execution_count": 8,
   "metadata": {},
   "outputs": [
    {
     "data": {
      "image/png": "[encoded data removed]",
      "text/plain": [
       "<Figure size 720x216 with 2 Axes>"
      ]
     },
     "metadata": {},
     "output_type": "display_data"
    }
   ],
   "source": [
    "system.m.plane('y').mpl(figsize=(10, 3), scalar_kw={'clim': [-0.1, 0.1]})"
   ]
  },
  {
   "cell_type": "markdown",
   "metadata": {},
   "source": [
    "We can see that magnetisation is aligned with the sum of fields `H1+H2`. Finally, let us have a look at the table:"
   ]
  },
  {
   "cell_type": "code",
   "execution_count": 9,
   "metadata": {
    "tags": [
     "nbval-ignore-output"
    ]
   },
   "outputs": [
    {
     "data": {
      "text/html": [
       "<div>\n",
       "<style scoped>\n",
       "    .dataframe tbody tr th:only-of-type {\n",
       "        vertical-align: middle;\n",
       "    }\n",
       "\n",
       "    .dataframe tbody tr th {\n",
       "        vertical-align: top;\n",
       "    }\n",
       "\n",
       "    .dataframe thead th {\n",
       "        text-align: right;\n",
       "    }\n",
       "</style>\n",
       "<table border=\"1\" class=\"dataframe\">\n",
       "  <thead>\n",
       "    <tr style=\"text-align: right;\">\n",
       "      <th></th>\n",
       "      <th>max_mxHxm</th>\n",
       "      <th>E</th>\n",
       "      <th>delta_E</th>\n",
       "      <th>bracket_count</th>\n",
       "      <th>line_min_count</th>\n",
       "      <th>conjugate_cycle_count</th>\n",
       "      <th>cycle_count</th>\n",
       "      <th>cycle_sub_count</th>\n",
       "      <th>energy_calc_count</th>\n",
       "      <th>E_zeeman_zeeman1</th>\n",
       "      <th>E_zeeman_zeeman2</th>\n",
       "      <th>iteration</th>\n",
       "      <th>stage_iteration</th>\n",
       "      <th>stage</th>\n",
       "      <th>mx</th>\n",
       "      <th>my</th>\n",
       "      <th>mz</th>\n",
       "    </tr>\n",
       "  </thead>\n",
       "  <tbody>\n",
       "    <tr>\n",
       "      <th>0</th>\n",
       "      <td>0.002808</td>\n",
       "      <td>-2.843445e-20</td>\n",
       "      <td>-7.222237e-35</td>\n",
       "      <td>27.0</td>\n",
       "      <td>5.0</td>\n",
       "      <td>21.0</td>\n",
       "      <td>23.0</td>\n",
       "      <td>2.0</td>\n",
       "      <td>33.0</td>\n",
       "      <td>-1.421723e-20</td>\n",
       "      <td>-1.421723e-20</td>\n",
       "      <td>30.0</td>\n",
       "      <td>30.0</td>\n",
       "      <td>0.0</td>\n",
       "      <td>0.707107</td>\n",
       "      <td>8.862214e-11</td>\n",
       "      <td>0.707107</td>\n",
       "    </tr>\n",
       "  </tbody>\n",
       "</table>\n",
       "</div>"
      ],
      "text/plain": [
       "   max_mxHxm             E       delta_E  bracket_count  line_min_count  \\\n",
       "0   0.002808 -2.843445e-20 -7.222237e-35           27.0             5.0   \n",
       "\n",
       "   conjugate_cycle_count  cycle_count  cycle_sub_count  energy_calc_count  \\\n",
       "0                   21.0         23.0              2.0               33.0   \n",
       "\n",
       "   E_zeeman_zeeman1  E_zeeman_zeeman2  iteration  stage_iteration  stage  \\\n",
       "0     -1.421723e-20     -1.421723e-20       30.0             30.0    0.0   \n",
       "\n",
       "         mx            my        mz  \n",
       "0  0.707107  8.862214e-11  0.707107  "
      ]
     },
     "execution_count": 9,
     "metadata": {},
     "output_type": "execute_result"
    }
   ],
   "source": [
    "system.table.data"
   ]
  },
  {
   "cell_type": "markdown",
   "metadata": {},
   "source": [
    "We can see that energy terms are marked with the names we gave to energy terms when we defined the energy equation."
   ]
  }
 ],
 "metadata": {
  "kernelspec": {
   "display_name": "Python 3 (ipykernel)",
   "language": "python",
   "name": "python3"
  },
  "language_info": {
   "codemirror_mode": {
    "name": "ipython",
    "version": 3
   },
   "file_extension": ".py",
   "mimetype": "text/x-python",
   "name": "python",
   "nbconvert_exporter": "python",
   "pygments_lexer": "ipython3",
   "version": "3.8.12"
  },
  "widgets": {
   "application/vnd.jupyter.widget-state+json": {
    "state": {},
    "version_major": 2,
    "version_minor": 0
   }
  }
 },
 "nbformat": 4,
 "nbformat_minor": 4
}
